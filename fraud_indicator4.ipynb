{
 "cells": [
  {
   "cell_type": "code",
   "execution_count": 3,
   "id": "81cc845a-ebb2-4116-9bc4-b205d1eaac35",
   "metadata": {
    "tags": []
   },
   "outputs": [],
   "source": [
    "import pandas as pd\n",
    "import numpy as np"
   ]
  },
  {
   "cell_type": "code",
   "execution_count": 6,
   "id": "acb84017-3584-4833-b05d-17d4743a9280",
   "metadata": {
    "tags": []
   },
   "outputs": [
    {
     "data": {
      "text/plain": [
       "'refined_flagged_transactions.csv'"
      ]
     },
     "execution_count": 6,
     "metadata": {},
     "output_type": "execute_result"
    }
   ],
   "source": [
    "# Refine the fraud detection logic by incorporating extracted criteria\n",
    "\n",
    "# Reload the cleaned dataset\n",
    "cleaned_data = pd.read_csv('cleaned_digital_wallet_transactions.csv')\n",
    "cleaned_data['transaction_date'] = pd.to_datetime(cleaned_data['transaction_date'])\n",
    "\n",
    "# Extract features for fraud detection based on the combined criteria\n",
    "# 1. High Transaction Amounts (Statistical and Absolute Threshold)\n",
    "threshold_amount = 5000  # Absolute threshold for high transaction amounts\n",
    "mean_amount = cleaned_data['product_amount'].mean()\n",
    "std_amount = cleaned_data['product_amount'].std()\n",
    "upper_limit = mean_amount + 3 * std_amount  # 3-sigma threshold\n",
    "\n",
    "cleaned_data['high_transaction_flag'] = cleaned_data['product_amount'] > upper_limit\n",
    "\n",
    "# 2. Frequent Transactions in Short Time Periods\n",
    "cleaned_data = cleaned_data.sort_values(by=['user_id', 'transaction_date'])\n",
    "cleaned_data['time_diff'] = cleaned_data.groupby('user_id')['transaction_date'].diff().dt.total_seconds() / 60  # in minutes\n",
    "frequent_transaction_window = 15  # Extended window for broader criteria\n",
    "cleaned_data['frequent_transaction_flag'] = (cleaned_data['time_diff'] < frequent_transaction_window)\n",
    "\n",
    "# 3. Unusual Location for User's Transactions\n",
    "cleaned_data['most_common_location'] = cleaned_data.groupby('user_id')['location'].transform(lambda x: x.mode()[0])\n",
    "cleaned_data['unusual_location_flag'] = cleaned_data['location'] != cleaned_data['most_common_location']\n",
    "\n",
    "# 4. Irregular Product Category Purchases\n",
    "cleaned_data['usual_product_category'] = cleaned_data.groupby('user_id')['product_category'].transform(lambda x: x.mode()[0])\n",
    "cleaned_data['irregular_product_flag'] = cleaned_data['product_category'] != cleaned_data['usual_product_category']\n",
    "\n",
    "# 5. Multiple Payment Methods for a Single User\n",
    "payment_method_count = cleaned_data.groupby('user_id')['payment_method'].nunique()\n",
    "multiple_payment_method_users = payment_method_count[payment_method_count > 1].index\n",
    "cleaned_data['multiple_payment_method_flag'] = cleaned_data['user_id'].isin(multiple_payment_method_users)\n",
    "\n",
    "# Combine all refined fraud flags for a comprehensive fraud detection report\n",
    "cleaned_data['nested_fraud_flag'] = (\n",
    "    cleaned_data['high_transaction_flag'] |\n",
    "    cleaned_data['frequent_transaction_flag'] |\n",
    "    cleaned_data['unusual_location_flag'] |\n",
    "    cleaned_data['irregular_product_flag'] |\n",
    "    cleaned_data['multiple_payment_method_flag']\n",
    ")\n",
    "\n",
    "# Select flagged transactions for review\n",
    "flagged_transactions = cleaned_data[cleaned_data['nested_fraud_flag']]\n",
    "\n",
    "# Save the flagged transactions for analysis\n",
    "flagged_transactions_path = 'refined_flagged_transactions.csv'\n",
    "flagged_transactions.to_csv(flagged_transactions_path, index=False)\n",
    "\n",
    "flagged_transactions_path\n"
   ]
  }
 ],
 "metadata": {
  "kernelspec": {
   "display_name": "Python 3 (ipykernel)",
   "language": "python",
   "name": "python3"
  },
  "language_info": {
   "codemirror_mode": {
    "name": "ipython",
    "version": 3
   },
   "file_extension": ".py",
   "mimetype": "text/x-python",
   "name": "python",
   "nbconvert_exporter": "python",
   "pygments_lexer": "ipython3",
   "version": "3.11.8"
  }
 },
 "nbformat": 4,
 "nbformat_minor": 5
}
